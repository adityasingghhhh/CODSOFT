{
 "cells": [
  {
   "cell_type": "code",
   "execution_count": 1,
   "id": "359671e5-2460-42fe-81a7-5dd56bbdbbbd",
   "metadata": {},
   "outputs": [
    {
     "name": "stdout",
     "output_type": "stream",
     "text": [
      "===== SIMPLE CALCULATOR =====\n"
     ]
    },
    {
     "name": "stdin",
     "output_type": "stream",
     "text": [
      "Enter first number:  1\n",
      "Enter second number:  2\n"
     ]
    },
    {
     "name": "stdout",
     "output_type": "stream",
     "text": [
      "\n",
      "Operations:\n",
      "+ : Addition\n",
      "- : Subtraction\n",
      "* : Multiplication\n",
      "/ : Division\n"
     ]
    },
    {
     "name": "stdin",
     "output_type": "stream",
     "text": [
      "Enter an operation (+, -, *, /):  +\n"
     ]
    },
    {
     "name": "stdout",
     "output_type": "stream",
     "text": [
      "\n",
      "Result: 1.0 + 2.0 = 3.0\n"
     ]
    }
   ],
   "source": [
    "\n",
    "\n",
    "print(\"===== SIMPLE CALCULATOR =====\")\n",
    "\n",
    "\n",
    "try:\n",
    "    num1 = float(input(\"Enter first number: \"))\n",
    "    num2 = float(input(\"Enter second number: \"))\n",
    "except ValueError:\n",
    "    print(\"Invalid input! Please enter numeric values.\")\n",
    "    exit()\n",
    "\n",
    "print(\"\\nOperations:\")\n",
    "print(\"+ : Addition\")\n",
    "print(\"- : Subtraction\")\n",
    "print(\"* : Multiplication\")\n",
    "print(\"/ : Division\")\n",
    "\n",
    "operation = input(\"Enter an operation (+, -, *, /): \").strip()\n",
    "\n",
    "\n",
    "if operation == \"+\":\n",
    "    result = num1 + num2\n",
    "elif operation == \"-\":\n",
    "    result = num1 - num2\n",
    "elif operation == \"*\":\n",
    "    result = num1 * num2\n",
    "elif operation == \"/\":\n",
    "    if num2 != 0:\n",
    "        result = num1 / num2\n",
    "    else:\n",
    "        print(\"Error! Division by zero is not allowed.\")\n",
    "        exit()\n",
    "else:\n",
    "    print(\"Invalid operation!\")\n",
    "    exit()\n",
    "\n",
    "\n",
    "print(f\"\\nResult: {num1} {operation} {num2} = {result}\")\n"
   ]
  },
  {
   "cell_type": "code",
   "execution_count": null,
   "id": "334dcb17-625c-46bf-90ca-4346d3225e4d",
   "metadata": {},
   "outputs": [],
   "source": []
  }
 ],
 "metadata": {
  "kernelspec": {
   "display_name": "Python 3 (ipykernel)",
   "language": "python",
   "name": "python3"
  },
  "language_info": {
   "codemirror_mode": {
    "name": "ipython",
    "version": 3
   },
   "file_extension": ".py",
   "mimetype": "text/x-python",
   "name": "python",
   "nbconvert_exporter": "python",
   "pygments_lexer": "ipython3",
   "version": "3.13.5"
  }
 },
 "nbformat": 4,
 "nbformat_minor": 5
}
