{
 "cells": [
  {
   "cell_type": "code",
   "execution_count": 1,
   "id": "ad658b8d-9c39-4ff7-9faa-ab8ec682fac8",
   "metadata": {},
   "outputs": [
    {
     "name": "stdout",
     "output_type": "stream",
     "text": [
      "===== PASSWORD GENERATOR =====\n"
     ]
    },
    {
     "name": "stdin",
     "output_type": "stream",
     "text": [
      "Enter desired password length:  8\n"
     ]
    },
    {
     "name": "stdout",
     "output_type": "stream",
     "text": [
      "\n",
      "Choose password complexity:\n",
      "1. Only Letters (a-z, A-Z)\n",
      "2. Letters + Numbers\n",
      "3. Letters + Numbers + Special Characters\n"
     ]
    },
    {
     "name": "stdin",
     "output_type": "stream",
     "text": [
      "Enter choice (1/2/3):  3\n"
     ]
    },
    {
     "name": "stdout",
     "output_type": "stream",
     "text": [
      "\n",
      "Generated Password: :\"XT;^cp\n"
     ]
    }
   ],
   "source": [
    "import random\n",
    "import string\n",
    "\n",
    "print(\"===== PASSWORD GENERATOR =====\")\n",
    "\n",
    "# Step 1: Ask user for desired password length\n",
    "try:\n",
    "    length = int(input(\"Enter desired password length: \"))\n",
    "    if length <= 0:\n",
    "        print(\"Password length must be greater than 0!\")\n",
    "        exit()\n",
    "except ValueError:\n",
    "    print(\"Invalid input! Please enter a number.\")\n",
    "    exit()\n",
    "\n",
    "# Step 2: Ask for complexity choice\n",
    "print(\"\\nChoose password complexity:\")\n",
    "print(\"1. Only Letters (a-z, A-Z)\")\n",
    "print(\"2. Letters + Numbers\")\n",
    "print(\"3. Letters + Numbers + Special Characters\")\n",
    "choice = input(\"Enter choice (1/2/3): \").strip()\n",
    "\n",
    "# Step 3: Define character sets\n",
    "if choice == \"1\":\n",
    "    characters = string.ascii_letters\n",
    "elif choice == \"2\":\n",
    "    characters = string.ascii_letters + string.digits\n",
    "elif choice == \"3\":\n",
    "    characters = string.ascii_letters + string.digits + string.punctuation\n",
    "else:\n",
    "    print(\"Invalid choice!\")\n",
    "    exit()\n",
    "\n",
    "# Step 4: Generate password\n",
    "password = ''.join(random.choice(characters) for _ in range(length))\n",
    "\n",
    "# Step 5: Display password\n",
    "print(f\"\\nGenerated Password: {password}\")\n"
   ]
  },
  {
   "cell_type": "code",
   "execution_count": null,
   "id": "e4bba50a-ff60-4cc2-9ef6-700fe64aea3e",
   "metadata": {},
   "outputs": [],
   "source": []
  }
 ],
 "metadata": {
  "kernelspec": {
   "display_name": "Python [conda env:base] *",
   "language": "python",
   "name": "conda-base-py"
  },
  "language_info": {
   "codemirror_mode": {
    "name": "ipython",
    "version": 3
   },
   "file_extension": ".py",
   "mimetype": "text/x-python",
   "name": "python",
   "nbconvert_exporter": "python",
   "pygments_lexer": "ipython3",
   "version": "3.13.5"
  }
 },
 "nbformat": 4,
 "nbformat_minor": 5
}
